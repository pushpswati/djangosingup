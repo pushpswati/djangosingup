{
 "cells": [
  {
   "cell_type": "markdown",
   "metadata": {},
   "source": [
    "## How to install requests\n",
    "#### sudo pip install requests"
   ]
  },
  {
   "cell_type": "markdown",
   "metadata": {},
   "source": [
    "# Signup api "
   ]
  },
  {
   "cell_type": "code",
   "execution_count": 9,
   "metadata": {},
   "outputs": [
    {
     "name": "stdout",
     "output_type": "stream",
     "text": [
      "('status_code:  ', '201')\n",
      "{u'address': u'jaipur',\n",
      " u'contact': u'8747247827',\n",
      " u'created': u'2018-06-01T15:37:32.872439Z',\n",
      " u'mail': u'suresh@gmail.com',\n",
      " u'name': u'Suresh'}\n"
     ]
    }
   ],
   "source": [
    "import requests\n",
    "import json\n",
    "import pprint as pp\n",
    "url=\"http://127.0.0.1:8000/projectapp\"\n",
    "headers = {'Content-type': 'application/json'}\n",
    "payload={\"name\":\"Suresh\",\n",
    "        \"mail\":\"suresh@gmail.com\",\n",
    "        \"address\":\"jaipur\",\n",
    "        \"contact\":\"8747247827\"}\n",
    "response=requests.post(url,data=json.dumps(payload),headers=headers)\n",
    "print(\"status_code:  \",str(response.status_code))\n",
    "pp.pprint(response.json())"
   ]
  },
  {
   "cell_type": "markdown",
   "metadata": {},
   "source": [
    "# Get signnnnup data"
   ]
  },
  {
   "cell_type": "code",
   "execution_count": 10,
   "metadata": {},
   "outputs": [
    {
     "name": "stdout",
     "output_type": "stream",
     "text": [
      "('status_code:  ', 200)\n",
      "[{u'address': u'jaipur',\n",
      "  u'contact': u'8747247827',\n",
      "  u'created': u'2018-06-01T15:33:56.488650Z',\n",
      "  u'mail': u'suresh@gmail.com',\n",
      "  u'name': u'Suresh'},\n",
      " {u'address': u'jaipur',\n",
      "  u'contact': u'8747247827',\n",
      "  u'created': u'2018-06-01T15:36:06.662452Z',\n",
      "  u'mail': u'suresh@gmail.com',\n",
      "  u'name': u'Suresh'},\n",
      " {u'address': u'jaipur',\n",
      "  u'contact': u'8747247827',\n",
      "  u'created': u'2018-06-01T15:36:33.514782Z',\n",
      "  u'mail': u'suresh@gmail.com',\n",
      "  u'name': u'Suresh'},\n",
      " {u'address': u'jaipur',\n",
      "  u'contact': u'8747247827',\n",
      "  u'created': u'2018-06-01T15:37:32.872439Z',\n",
      "  u'mail': u'suresh@gmail.com',\n",
      "  u'name': u'Suresh'}]\n"
     ]
    }
   ],
   "source": [
    "response=requests.get(url)\n",
    "print(\"status_code:  \",response.status_code)\n",
    "pp.pprint(response.json())"
   ]
  },
  {
   "cell_type": "code",
   "execution_count": null,
   "metadata": {},
   "outputs": [],
   "source": []
  }
 ],
 "metadata": {
  "kernelspec": {
   "display_name": "Python 2",
   "language": "python",
   "name": "python2"
  },
  "language_info": {
   "codemirror_mode": {
    "name": "ipython",
    "version": 2
   },
   "file_extension": ".py",
   "mimetype": "text/x-python",
   "name": "python",
   "nbconvert_exporter": "python",
   "pygments_lexer": "ipython2",
   "version": "2.7.12"
  }
 },
 "nbformat": 4,
 "nbformat_minor": 2
}
